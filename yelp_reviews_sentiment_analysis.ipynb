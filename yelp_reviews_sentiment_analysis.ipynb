{
 "cells": [
  {
   "cell_type": "markdown",
   "metadata": {},
   "source": [
    "# \"Yelp reviews\" data set (https://bit.ly/2U7mLmC)"
   ]
  },
  {
   "cell_type": "code",
   "execution_count": 147,
   "metadata": {},
   "outputs": [
    {
     "name": "stdout",
     "output_type": "stream",
     "text": [
      "Requirement already satisfied: gensim in c:\\users\\administrator\\anaconda3\\lib\\site-packages (3.7.1)\n",
      "Requirement already satisfied: scipy>=0.18.1 in c:\\users\\administrator\\anaconda3\\lib\\site-packages (from gensim) (1.1.0)\n",
      "Requirement already satisfied: smart-open>=1.7.0 in c:\\users\\administrator\\anaconda3\\lib\\site-packages (from gensim) (1.8.0)\n",
      "Requirement already satisfied: numpy>=1.11.3 in c:\\users\\administrator\\anaconda3\\lib\\site-packages (from gensim) (1.14.3)\n",
      "Requirement already satisfied: six>=1.5.0 in c:\\users\\administrator\\anaconda3\\lib\\site-packages (from gensim) (1.11.0)\n",
      "Requirement already satisfied: bz2file in c:\\users\\administrator\\anaconda3\\lib\\site-packages (from smart-open>=1.7.0->gensim) (0.98)\n",
      "Requirement already satisfied: boto>=2.32 in c:\\users\\administrator\\anaconda3\\lib\\site-packages (from smart-open>=1.7.0->gensim) (2.48.0)\n",
      "Requirement already satisfied: boto3 in c:\\users\\administrator\\anaconda3\\lib\\site-packages (from smart-open>=1.7.0->gensim) (1.9.95)\n",
      "Requirement already satisfied: requests in c:\\users\\administrator\\anaconda3\\lib\\site-packages (from smart-open>=1.7.0->gensim) (2.18.4)\n",
      "Requirement already satisfied: s3transfer<0.3.0,>=0.2.0 in c:\\users\\administrator\\anaconda3\\lib\\site-packages (from boto3->smart-open>=1.7.0->gensim) (0.2.0)\n",
      "Requirement already satisfied: jmespath<1.0.0,>=0.7.1 in c:\\users\\administrator\\anaconda3\\lib\\site-packages (from boto3->smart-open>=1.7.0->gensim) (0.9.3)\n",
      "Requirement already satisfied: botocore<1.13.0,>=1.12.95 in c:\\users\\administrator\\anaconda3\\lib\\site-packages (from boto3->smart-open>=1.7.0->gensim) (1.12.95)\n",
      "Requirement already satisfied: chardet<3.1.0,>=3.0.2 in c:\\users\\administrator\\anaconda3\\lib\\site-packages (from requests->smart-open>=1.7.0->gensim) (3.0.4)\n",
      "Requirement already satisfied: idna<2.7,>=2.5 in c:\\users\\administrator\\anaconda3\\lib\\site-packages (from requests->smart-open>=1.7.0->gensim) (2.6)\n",
      "Requirement already satisfied: urllib3<1.23,>=1.21.1 in c:\\users\\administrator\\anaconda3\\lib\\site-packages (from requests->smart-open>=1.7.0->gensim) (1.22)\n",
      "Requirement already satisfied: certifi>=2017.4.17 in c:\\users\\administrator\\anaconda3\\lib\\site-packages (from requests->smart-open>=1.7.0->gensim) (2018.4.16)\n",
      "Requirement already satisfied: docutils>=0.10 in c:\\users\\administrator\\anaconda3\\lib\\site-packages (from botocore<1.13.0,>=1.12.95->boto3->smart-open>=1.7.0->gensim) (0.14)\n",
      "Requirement already satisfied: python-dateutil<3.0.0,>=2.1; python_version >= \"2.7\" in c:\\users\\administrator\\anaconda3\\lib\\site-packages (from botocore<1.13.0,>=1.12.95->boto3->smart-open>=1.7.0->gensim) (2.7.3)\n",
      "Requirement already satisfied: pyldavis in c:\\users\\administrator\\anaconda3\\lib\\site-packages (2.1.2)\n",
      "Requirement already satisfied: pandas>=0.17.0 in c:\\users\\administrator\\anaconda3\\lib\\site-packages (from pyldavis) (0.23.0)\n",
      "Requirement already satisfied: pytest in c:\\users\\administrator\\anaconda3\\lib\\site-packages (from pyldavis) (3.5.1)\n",
      "Requirement already satisfied: wheel>=0.23.0 in c:\\users\\administrator\\anaconda3\\lib\\site-packages (from pyldavis) (0.31.1)\n",
      "Requirement already satisfied: numpy>=1.9.2 in c:\\users\\administrator\\anaconda3\\lib\\site-packages (from pyldavis) (1.14.3)\n",
      "Requirement already satisfied: numexpr in c:\\users\\administrator\\anaconda3\\lib\\site-packages (from pyldavis) (2.6.5)\n",
      "Requirement already satisfied: joblib>=0.8.4 in c:\\users\\administrator\\anaconda3\\lib\\site-packages (from pyldavis) (0.13.0)\n",
      "Requirement already satisfied: jinja2>=2.7.2 in c:\\users\\administrator\\anaconda3\\lib\\site-packages (from pyldavis) (2.10)\n",
      "Requirement already satisfied: scipy>=0.18.0 in c:\\users\\administrator\\anaconda3\\lib\\site-packages (from pyldavis) (1.1.0)\n",
      "Requirement already satisfied: future in c:\\users\\administrator\\anaconda3\\lib\\site-packages (from pyldavis) (0.17.1)\n",
      "Requirement already satisfied: funcy in c:\\users\\administrator\\anaconda3\\lib\\site-packages (from pyldavis) (1.11)\n",
      "Requirement already satisfied: python-dateutil>=2.5.0 in c:\\users\\administrator\\anaconda3\\lib\\site-packages (from pandas>=0.17.0->pyldavis) (2.7.3)\n",
      "Requirement already satisfied: pytz>=2011k in c:\\users\\administrator\\anaconda3\\lib\\site-packages (from pandas>=0.17.0->pyldavis) (2018.4)\n",
      "Requirement already satisfied: py>=1.5.0 in c:\\users\\administrator\\anaconda3\\lib\\site-packages (from pytest->pyldavis) (1.5.3)\n",
      "Requirement already satisfied: six>=1.10.0 in c:\\users\\administrator\\anaconda3\\lib\\site-packages (from pytest->pyldavis) (1.11.0)\n",
      "Requirement already satisfied: setuptools in c:\\users\\administrator\\anaconda3\\lib\\site-packages (from pytest->pyldavis) (39.1.0)\n",
      "Requirement already satisfied: attrs>=17.4.0 in c:\\users\\administrator\\anaconda3\\lib\\site-packages (from pytest->pyldavis) (18.1.0)\n",
      "Requirement already satisfied: more-itertools>=4.0.0 in c:\\users\\administrator\\anaconda3\\lib\\site-packages (from pytest->pyldavis) (4.1.0)\n",
      "Requirement already satisfied: pluggy<0.7,>=0.5 in c:\\users\\administrator\\anaconda3\\lib\\site-packages (from pytest->pyldavis) (0.6.0)\n",
      "Requirement already satisfied: colorama in c:\\users\\administrator\\anaconda3\\lib\\site-packages (from pytest->pyldavis) (0.3.9)\n",
      "Requirement already satisfied: MarkupSafe>=0.23 in c:\\users\\administrator\\anaconda3\\lib\\site-packages (from jinja2>=2.7.2->pyldavis) (1.0)\n"
     ]
    }
   ],
   "source": [
    "import pandas as pd\n",
    "import numpy as np\n",
    "\n",
    "import nltk\n",
    "from nltk.sentiment import SentimentIntensityAnalyzer\n",
    "\n",
    "!pip install gensim\n",
    "import gensim\n",
    "from sklearn.feature_extraction.text import CountVectorizer\n",
    "!pip install pyldavis\n",
    "import pyLDAvis\n",
    "import pyLDAvis.gensim \n",
    "import matplotlib.pyplot as plt\n",
    "%matplotlib inline\n"
   ]
  },
  {
   "cell_type": "code",
   "execution_count": 148,
   "metadata": {},
   "outputs": [
    {
     "name": "stdout",
     "output_type": "stream",
     "text": [
      "[nltk_data] Error loading stopwords: <urlopen error Tunnel connection\n",
      "[nltk_data]     failed: 407 Proxy Access Denied>\n",
      "[nltk_data] Error loading punkt: <urlopen error Tunnel connection\n",
      "[nltk_data]     failed: 407 Proxy Access Denied>\n",
      "[nltk_data] Error loading vader_lexicon: <urlopen error Tunnel\n",
      "[nltk_data]     connection failed: 407 Proxy Access Denied>\n"
     ]
    },
    {
     "data": {
      "text/plain": [
       "False"
      ]
     },
     "execution_count": 148,
     "metadata": {},
     "output_type": "execute_result"
    }
   ],
   "source": [
    "nltk.download('stopwords')\n",
    "nltk.download('punkt')\n",
    "nltk.download('vader_lexicon')"
   ]
  },
  {
   "cell_type": "code",
   "execution_count": 149,
   "metadata": {},
   "outputs": [
    {
     "data": {
      "text/html": [
       "<div>\n",
       "<style scoped>\n",
       "    .dataframe tbody tr th:only-of-type {\n",
       "        vertical-align: middle;\n",
       "    }\n",
       "\n",
       "    .dataframe tbody tr th {\n",
       "        vertical-align: top;\n",
       "    }\n",
       "\n",
       "    .dataframe thead th {\n",
       "        text-align: right;\n",
       "    }\n",
       "</style>\n",
       "<table border=\"1\" class=\"dataframe\">\n",
       "  <thead>\n",
       "    <tr style=\"text-align: right;\">\n",
       "      <th></th>\n",
       "      <th>reviews</th>\n",
       "      <th>sentiment</th>\n",
       "    </tr>\n",
       "  </thead>\n",
       "  <tbody>\n",
       "    <tr>\n",
       "      <th>0</th>\n",
       "      <td>Wow... Loved this place.</td>\n",
       "      <td>1</td>\n",
       "    </tr>\n",
       "    <tr>\n",
       "      <th>1</th>\n",
       "      <td>Crust is not good.</td>\n",
       "      <td>0</td>\n",
       "    </tr>\n",
       "    <tr>\n",
       "      <th>2</th>\n",
       "      <td>Not tasty and the texture was just nasty.</td>\n",
       "      <td>0</td>\n",
       "    </tr>\n",
       "    <tr>\n",
       "      <th>3</th>\n",
       "      <td>Stopped by during the late May bank holiday of...</td>\n",
       "      <td>1</td>\n",
       "    </tr>\n",
       "    <tr>\n",
       "      <th>4</th>\n",
       "      <td>The selection on the menu was great and so wer...</td>\n",
       "      <td>1</td>\n",
       "    </tr>\n",
       "  </tbody>\n",
       "</table>\n",
       "</div>"
      ],
      "text/plain": [
       "                                             reviews  sentiment\n",
       "0                           Wow... Loved this place.          1\n",
       "1                                 Crust is not good.          0\n",
       "2          Not tasty and the texture was just nasty.          0\n",
       "3  Stopped by during the late May bank holiday of...          1\n",
       "4  The selection on the menu was great and so wer...          1"
      ]
     },
     "execution_count": 149,
     "metadata": {},
     "output_type": "execute_result"
    }
   ],
   "source": [
    "yelp = pd.read_csv('C:/Users/Administrator/UNSTRUCTURE DATA/datasets/yelp_labelled_1.csv', sep = '\\t', header=None)\n",
    "\n",
    "yelp.rename(columns={0:'reviews',1:'sentiment'}, inplace=True)\n",
    "\n",
    "yelp.head()"
   ]
  },
  {
   "cell_type": "markdown",
   "metadata": {},
   "source": [
    "# 1a. Text Cleaning Steps"
   ]
  },
  {
   "cell_type": "markdown",
   "metadata": {},
   "source": [
    "-Convert every character to lower case.\n",
    "-remove junk character.\n",
    "-remove commonly used words.\n",
    "-identify root of the words"
   ]
  },
  {
   "cell_type": "code",
   "execution_count": 150,
   "metadata": {},
   "outputs": [
    {
     "name": "stdout",
     "output_type": "stream",
     "text": [
      "wow loved this place\n",
      "['wow', 'loved', 'this', 'place']\n",
      "crust is not good\n",
      "['crust', 'is', 'not', 'good']\n",
      "['wow love place', 'crust good']\n"
     ]
    }
   ],
   "source": [
    "docs = yelp['reviews'].str.lower().str.replace('[^a-z ]','') \n",
    "stopwords = nltk.corpus.stopwords.words('english')\n",
    "stemmer = nltk.stem.PorterStemmer()\n",
    "\n",
    "#to remove the words from the reviews which are part of the stopwords.\n",
    "\n",
    "docs_clean = []\n",
    "for doc in docs.head(2):\n",
    "    words = doc.split(\" \")\n",
    "    print(doc)\n",
    "    print(words)\n",
    "    words_clean = []\n",
    "    for word in words:\n",
    "        if word not in stopwords:\n",
    "            words_clean.append(stemmer.stem(word)) #the words (we get in the list) after removal of the stop words.\n",
    "    doc_clean=' '.join(words_clean)\n",
    "    docs_clean.append(doc_clean)\n",
    "    #print(words_clean)\n",
    "    #print('-----------------------')\n",
    "print(docs_clean)"
   ]
  },
  {
   "cell_type": "code",
   "execution_count": 151,
   "metadata": {},
   "outputs": [
    {
     "data": {
      "text/plain": [
       "0                                       wow love place\n",
       "1                                           crust good\n",
       "2                                   tasti textur nasti\n",
       "3    stop late may bank holiday rick steve recommen...\n",
       "4                              select menu great price\n",
       "Name: reviews, dtype: object"
      ]
     },
     "execution_count": 151,
     "metadata": {},
     "output_type": "execute_result"
    }
   ],
   "source": [
    "\n",
    "docs = yelp['reviews'].str.lower().str.replace('[^a-z ]','')\n",
    "def clean_sentence(text):\n",
    "    words = text.split(' ')\n",
    "    words_clean = [stemmer.stem(word) for word in words if word not in stopwords]\n",
    "    return' '.join(words_clean)\n",
    "docs_clean = docs.apply(clean_sentence)\n",
    "docs_clean.head()"
   ]
  },
  {
   "cell_type": "markdown",
   "metadata": {},
   "source": [
    "# 1 b. Document Term Matric"
   ]
  },
  {
   "cell_type": "code",
   "execution_count": 152,
   "metadata": {},
   "outputs": [
    {
     "data": {
      "text/plain": [
       "<1000x1610 sparse matrix of type '<class 'numpy.int64'>'\n",
       "\twith 5510 stored elements in Compressed Sparse Row format>"
      ]
     },
     "execution_count": 152,
     "metadata": {},
     "output_type": "execute_result"
    }
   ],
   "source": [
    "from sklearn.feature_extraction.text import CountVectorizer\n",
    "vectorizer = CountVectorizer()\n",
    "vectorizer.fit(docs_clean)\n",
    "dtm = vectorizer.transform(docs_clean) \n",
    "dtm"
   ]
  },
  {
   "cell_type": "markdown",
   "metadata": {},
   "source": [
    "1000 is the no. of documents.\n",
    "1610 is the no. of columns ie the no. of unique terms.\n",
    "\n",
    "1000*1610 =1610000 elements in the matrix . where 4246 element are non zero no.'s.\n",
    "\n"
   ]
  },
  {
   "cell_type": "code",
   "execution_count": 153,
   "metadata": {},
   "outputs": [
    {
     "name": "stdout",
     "output_type": "stream",
     "text": [
      "1604490\n",
      "99.65776397515528\n"
     ]
    }
   ],
   "source": [
    "no_of_zeros= (1000*1610)-5510\n",
    "sparsity = (no_of_zeros) / (1000*1610)*100\n",
    "print(no_of_zeros)\n",
    "print(sparsity)\n",
    "\n"
   ]
  },
  {
   "cell_type": "code",
   "execution_count": 154,
   "metadata": {},
   "outputs": [
    {
     "data": {
      "text/plain": [
       "food          125\n",
       "place         112\n",
       "good           95\n",
       "servic         84\n",
       "great          70\n",
       "back           61\n",
       "go             61\n",
       "time           55\n",
       "like           51\n",
       "realli         36\n",
       "love           33\n",
       "best           30\n",
       "disappoint     30\n",
       "wait           29\n",
       "order          28\n",
       "ever           28\n",
       "would          28\n",
       "get            28\n",
       "restaur        28\n",
       "dont           28\n",
       "dtype: int64"
      ]
     },
     "execution_count": 154,
     "metadata": {},
     "output_type": "execute_result"
    }
   ],
   "source": [
    "df_dtm = pd.DataFrame(dtm.toarray(),columns=vectorizer.get_feature_names())\n",
    "(df_dtm ==0).sum().sum()   #to count the no. of values\n",
    "\n",
    "df_dtm.sum().sort_values(ascending=False).head(20) #term wise frequency"
   ]
  },
  {
   "cell_type": "code",
   "execution_count": 155,
   "metadata": {},
   "outputs": [
    {
     "data": {
      "text/plain": [
       "862    18\n",
       "715    17\n",
       "236    17\n",
       "157    16\n",
       "623    16\n",
       "100    15\n",
       "533    15\n",
       "884    15\n",
       "123    15\n",
       "28     15\n",
       "132    15\n",
       "849    14\n",
       "42     14\n",
       "395    14\n",
       "189    14\n",
       "961    14\n",
       "610    14\n",
       "805    14\n",
       "792    13\n",
       "394    13\n",
       "dtype: int64"
      ]
     },
     "execution_count": 155,
     "metadata": {},
     "output_type": "execute_result"
    }
   ],
   "source": [
    "df_dtm.sum(axis=1).sort_values(ascending=False).head(20) #columsn wise frequency\n",
    " #row no.862 has the biggest review"
   ]
  },
  {
   "cell_type": "markdown",
   "metadata": {},
   "source": [
    "# 1c. Using Multinomial Naïve Bayes, create a supervised model to predict the sentiment and report accuracy."
   ]
  },
  {
   "cell_type": "code",
   "execution_count": 157,
   "metadata": {},
   "outputs": [],
   "source": [
    "from sklearn.model_selection import train_test_split\n",
    "train_x,test_x = train_test_split(df_dtm,\n",
    "                                 test_size=0.2,\n",
    "                                 random_state=100)\n",
    "\n",
    "train_y = yelp.iloc[train_x.index]['sentiment'] \n",
    "test_y =yelp.iloc[test_x.index]['sentiment']"
   ]
  },
  {
   "cell_type": "code",
   "execution_count": 158,
   "metadata": {},
   "outputs": [],
   "source": [
    "from sklearn.ensemble import RandomForestClassifier\n",
    "from sklearn.metrics import accuracy_score\n",
    "from sklearn.naive_bayes import MultinomialNB\n",
    "from sklearn.ensemble import AdaBoostClassifier"
   ]
  },
  {
   "cell_type": "code",
   "execution_count": 159,
   "metadata": {},
   "outputs": [
    {
     "data": {
      "text/plain": [
       "0.765"
      ]
     },
     "execution_count": 159,
     "metadata": {},
     "output_type": "execute_result"
    }
   ],
   "source": [
    "mulNB_model = MultinomialNB()\n",
    "mulNB_model.fit(train_x,train_y)\n",
    "mulNB_predict_class = mulNB_model.predict(test_x)\n",
    "accuracy_score(test_y,mulNB_predict_class)"
   ]
  },
  {
   "cell_type": "markdown",
   "metadata": {},
   "source": [
    "# d. Using Random Forest to create a supervised model to predict the sentiment and report "
   ]
  },
  {
   "cell_type": "code",
   "execution_count": 160,
   "metadata": {},
   "outputs": [
    {
     "data": {
      "text/plain": [
       "0.775"
      ]
     },
     "execution_count": 160,
     "metadata": {},
     "output_type": "execute_result"
    }
   ],
   "source": [
    "\n",
    "rf_model = RandomForestClassifier(random_state=100, n_estimators=300)\n",
    "rf_model.fit(train_x,train_y)\n",
    "rf_predict_class = rf_model.predict(test_x)\n",
    "accuracy_score(test_y,rf_predict_class)"
   ]
  },
  {
   "cell_type": "markdown",
   "metadata": {},
   "source": [
    "# d. Using Adaboost to create a supervised model to predict the sentiment and report"
   ]
  },
  {
   "cell_type": "code",
   "execution_count": 161,
   "metadata": {},
   "outputs": [
    {
     "data": {
      "text/plain": [
       "0.775"
      ]
     },
     "execution_count": 161,
     "metadata": {},
     "output_type": "execute_result"
    }
   ],
   "source": [
    "adaboost_model = AdaBoostClassifier(n_estimators=300,\n",
    "                         random_state=100,learning_rate=1)\n",
    "adaboost_model.fit(train_x,train_y)\n",
    "adaboost_predict_class = rf_model.predict(test_x)\n",
    "accuracy_score(test_y,adaboost_predict_class)"
   ]
  },
  {
   "cell_type": "markdown",
   "metadata": {},
   "source": [
    "# e.Using Google’s word2vec, classify the sentiment. Build a Adaboost model and report accuracy along with ROC curves (comparing results from above models)"
   ]
  },
  {
   "cell_type": "markdown",
   "metadata": {},
   "source": [
    "link = ['Kaggle/word2vec'](https://www.kaggle.com/oendric/yelp-sentiment-word2vec?scriptVersionId=11353483)"
   ]
  },
  {
   "cell_type": "code",
   "execution_count": 169,
   "metadata": {},
   "outputs": [
    {
     "data": {
      "text/plain": [
       "[<matplotlib.lines.Line2D at 0x224f6bbbf60>]"
      ]
     },
     "execution_count": 169,
     "metadata": {},
     "output_type": "execute_result"
    },
    {
     "data": {
      "image/png": "[encoded data removed]",
      "text/plain": [
       "<Figure size 432x288 with 1 Axes>"
      ]
     },
     "metadata": {},
     "output_type": "display_data"
    }
   ],
   "source": [
    "from sklearn.metrics import roc_curve\n",
    "\n",
    "\n",
    "### ROC for Naive Bayes\n",
    "\n",
    "prob_nb = pd.DataFrame(mulNB_model.predict_proba(test_x),\n",
    "\n",
    "                    columns=['Neg_0', 'Pos_1'])\n",
    "\n",
    "fpr, tpr, cutoffs = roc_curve(test_y, prob_nb['Pos_1'], pos_label=1)\n",
    "\n",
    "plt.plot(fpr,tpr, color='green')\n",
    "\n",
    " \n",
    "\n",
    "### ROC for Adaboost\n",
    "\n",
    "prob_ada = pd.DataFrame(adaboost_model.predict_proba(test_x),\n",
    "\n",
    "                    columns=['Neg_0', 'Pos_1'])\n",
    "\n",
    "fpr, tpr, cutoffs = roc_curve(test_y, prob_ada['Pos_1'], pos_label=1)\n",
    "\n",
    "plt.plot(fpr,tpr, color='red')\n",
    "\n",
    " \n",
    "\n",
    "### ROC for RandomForest\n",
    "\n",
    "prob_rf = pd.DataFrame(rf_model.predict_proba(test_x),\n",
    "\n",
    "                    columns=['Neg_0', 'Pos_1'])\n",
    "\n",
    "fpr, tpr, cutoffs = roc_curve(test_y, prob_rf['Pos_1'], pos_label=1)\n",
    "\n",
    "plt.plot(fpr,tpr, color='blue')"
   ]
  },
  {
   "cell_type": "markdown",
   "metadata": {},
   "source": [
    "# f. Identify sentiment using vader package and compare the results"
   ]
  },
  {
   "cell_type": "code",
   "execution_count": 165,
   "metadata": {},
   "outputs": [],
   "source": [
    "sentiment = SentimentIntensityAnalyzer()\n",
    "def get_sentiment(text):\n",
    "    sentiment =SentimentIntensityAnalyzer()\n",
    "    compound = sentiment.polarity_scores(text)['compound']\n",
    "    if compound > 0:\n",
    "        return 1\n",
    "    else:\n",
    "        return 0\n",
    "yelp['sentiment_vader'] = yelp['reviews'].apply(get_sentiment)"
   ]
  },
  {
   "cell_type": "code",
   "execution_count": 171,
   "metadata": {},
   "outputs": [
    {
     "data": {
      "text/plain": [
       "0.812"
      ]
     },
     "execution_count": 171,
     "metadata": {},
     "output_type": "execute_result"
    }
   ],
   "source": [
    "from sklearn.metrics import accuracy_score\n",
    "accuracy_score(yelp['sentiment'],yelp['sentiment_vader'])"
   ]
  },
  {
   "cell_type": "markdown",
   "metadata": {},
   "source": [
    "using vader package gives higher accuracy of 81.2 than using supervised algorithms (random forest, adaboost and multinominal gaussian algorithms)"
   ]
  },
  {
   "cell_type": "markdown",
   "metadata": {},
   "source": [
    "# 2. Apply topic modelling to understand the topics discussed in the reviews. Using multiple iterations, choose appropriate number of topics. Visualize number of documents under each cluster using a bar chart"
   ]
  },
  {
   "cell_type": "code",
   "execution_count": 173,
   "metadata": {},
   "outputs": [
    {
     "data": {
      "text/plain": [
       "1000"
      ]
     },
     "execution_count": 173,
     "metadata": {},
     "output_type": "execute_result"
    }
   ],
   "source": [
    "docs_clean = []\n",
    "\n",
    "docs = yelp['reviews'].fillna('').str.lower().str.replace('[^a-z ]','')\n",
    "\n",
    "stopwords = nltk.corpus.stopwords.words('english')\n",
    "stopwords.extend(['','food','cocktails','customer','best','dessert'])\n",
    "stemmer = nltk.stem.PorterStemmer()\n",
    "\n",
    " \n",
    "\n",
    "for doc in docs:\n",
    "\n",
    "    words = doc.split(' ')\n",
    "\n",
    "    words_clean = [stemmer.stem(word) for word in words if stemmer.stem(word) not in stopwords]\n",
    "\n",
    "    docs_clean.append(words_clean)\n",
    "\n",
    "len(docs_clean)"
   ]
  },
  {
   "cell_type": "code",
   "execution_count": 177,
   "metadata": {},
   "outputs": [
    {
     "data": {
      "text/plain": [
       "[(0, 1), (1, 1), (2, 1), (3, 1)]"
      ]
     },
     "execution_count": 177,
     "metadata": {},
     "output_type": "execute_result"
    }
   ],
   "source": [
    "dictionary = gensim.corpora.Dictionary(docs_clean) #this gives each term an id \n",
    "dictionary.doc2bow(docs_clean[0]) #to get bag of words of each row containing each document"
   ]
  },
  {
   "cell_type": "code",
   "execution_count": 178,
   "metadata": {},
   "outputs": [],
   "source": [
    "docs_bow = []\n",
    "\n",
    "for doc in docs_clean:\n",
    "\n",
    "    doc_bow = dictionary.doc2bow(doc)\n",
    "\n",
    "    docs_bow.append(doc_bow)"
   ]
  },
  {
   "cell_type": "code",
   "execution_count": 180,
   "metadata": {},
   "outputs": [
    {
     "data": {
      "text/plain": [
       "[(0,\n",
       "  '0.074*\"wa\" + 0.019*\"place\" + 0.019*\"thi\" + 0.011*\"servic\" + 0.009*\"veri\" + 0.009*\"great\" + 0.008*\"good\" + 0.007*\"realli\" + 0.006*\"price\" + 0.006*\"love\"'),\n",
       " (1,\n",
       "  '0.025*\"wa\" + 0.017*\"great\" + 0.014*\"servic\" + 0.013*\"back\" + 0.013*\"time\" + 0.010*\"veri\" + 0.008*\"order\" + 0.008*\"dont\" + 0.007*\"chicken\" + 0.006*\"ever\"'),\n",
       " (2,\n",
       "  '0.039*\"thi\" + 0.027*\"wa\" + 0.022*\"place\" + 0.014*\"servic\" + 0.014*\"like\" + 0.012*\"veri\" + 0.009*\"go\" + 0.007*\"also\" + 0.007*\"back\" + 0.007*\"would\"'),\n",
       " (3,\n",
       "  '0.031*\"good\" + 0.028*\"wa\" + 0.016*\"go\" + 0.014*\"place\" + 0.011*\"time\" + 0.010*\"thi\" + 0.009*\"back\" + 0.008*\"veri\" + 0.008*\"realli\" + 0.008*\"great\"')]"
      ]
     },
     "execution_count": 180,
     "metadata": {},
     "output_type": "execute_result"
    }
   ],
   "source": [
    "lda_model = gensim.models.LdaModel(docs_bow,\n",
    "                                  id2word=dictionary,\n",
    "                                  num_topics=4)\n",
    "lda_model.get_document_topics(docs_bow[0])\n",
    "\n",
    "lda_model.print_topics()"
   ]
  },
  {
   "cell_type": "code",
   "execution_count": 181,
   "metadata": {},
   "outputs": [
    {
     "data": {
      "text/plain": [
       "0.0"
      ]
     },
     "execution_count": 181,
     "metadata": {},
     "output_type": "execute_result"
    }
   ],
   "source": [
    "doc2topic_prob = lda_model.get_document_topics(docs_bow[0])\n",
    "doc2topic_prob = pd.DataFrame(doc2topic_prob, columns=['topic','prob'])\n",
    "doc2topic_prob.sort_values('prob', ascending=False).iloc[0]['topic']\n"
   ]
  },
  {
   "cell_type": "code",
   "execution_count": 182,
   "metadata": {},
   "outputs": [],
   "source": [
    "topics=[]\n",
    "\n",
    "for doc_bow in docs_bow:\n",
    "    doc2topic_prob = lda_model.get_document_topics(doc_bow)\n",
    "    doc2topic_prob = pd.DataFrame(doc2topic_prob,\n",
    "                                 columns = ['topic','prob'])\n",
    "    topic = doc2topic_prob.sort_values('prob',\n",
    "                                      ascending=False).iloc[0]['topic']\n",
    "    topics.append(topic)"
   ]
  },
  {
   "cell_type": "code",
   "execution_count": 184,
   "metadata": {},
   "outputs": [
    {
     "data": {
      "text/plain": [
       "<matplotlib.axes._subplots.AxesSubplot at 0x224f6e79780>"
      ]
     },
     "execution_count": 184,
     "metadata": {},
     "output_type": "execute_result"
    },
    {
     "data": {
      "image/png": "[encoded data removed]",
      "text/plain": [
       "<Figure size 432x288 with 1 Axes>"
      ]
     },
     "metadata": {},
     "output_type": "display_data"
    }
   ],
   "source": [
    "%matplotlib inline\n",
    "\n",
    "yelp['topics']=topics\n",
    "yelp['topics'].value_counts().plot.bar(color='steelblue')"
   ]
  }
 ],
 "metadata": {
  "kernelspec": {
   "display_name": "Python 3",
   "language": "python",
   "name": "python3"
  },
  "language_info": {
   "codemirror_mode": {
    "name": "ipython",
    "version": 3
   },
   "file_extension": ".py",
   "mimetype": "text/x-python",
   "name": "python",
   "nbconvert_exporter": "python",
   "pygments_lexer": "ipython3",
   "version": "3.6.5"
  }
 },
 "nbformat": 4,
 "nbformat_minor": 2
}
